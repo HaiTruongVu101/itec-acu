{
  "cells": [
    {
      "cell_type": "code",
      "execution_count": null,
      "metadata": {
        "colab": {
          "base_uri": "https://localhost:8080/"
        },
        "id": "F9BHVM7YDA2K",
        "outputId": "b0a854a0-c2f4-4c0d-a15e-30c9774eade7"
      },
      "outputs": [
        {
          "name": "stdout",
          "output_type": "stream",
          "text": [
            "['Parramatta', 'Newtown', 'Bondi', 'Manly']\n"
          ]
        }
      ],
      "source": [
        "my_list = ['Parramatta', 'Newtown', 'Bondi']\n",
        "my_list.append('Manly')\n",
        "print(my_list)"
      ]
    },
    {
      "cell_type": "code",
      "execution_count": null,
      "metadata": {
        "colab": {
          "base_uri": "https://localhost:8080/"
        },
        "id": "Zy7ialA0DvPY",
        "outputId": "392e1f49-eebe-4b07-b4e7-1bf8d2900950"
      },
      "outputs": [
        {
          "name": "stdout",
          "output_type": "stream",
          "text": [
            "['Lamington', 'Tim tam', 'Vegemete']\n"
          ]
        }
      ],
      "source": [
        "foods = ['Tim tam', 'Vegemete', 'Lamington']\n",
        "foods.sort()\n",
        "print(foods)"
      ]
    },
    {
      "cell_type": "code",
      "execution_count": null,
      "metadata": {
        "colab": {
          "base_uri": "https://localhost:8080/"
        },
        "id": "Z9o7l0GyEAWX",
        "outputId": "07d642b1-f90b-4fcd-bc1a-eeb1e24af09b"
      },
      "outputs": [
        {
          "name": "stdout",
          "output_type": "stream",
          "text": [
            "['Sydney', 'Brisbane', 'Perth', 'Canberra']\n"
          ]
        }
      ],
      "source": [
        "cities = ['Sydney', 'Melbourne', 'Brisbane', 'Perth', 'Canberra']\n",
        "del cities[1]\n",
        "print(cities)"
      ]
    },
    {
      "cell_type": "code",
      "execution_count": null,
      "metadata": {
        "colab": {
          "base_uri": "https://localhost:8080/"
        },
        "id": "iSjr4d6qEXI3",
        "outputId": "406c8715-1d05-4748-e10b-3bed13341208"
      },
      "outputs": [
        {
          "name": "stdout",
          "output_type": "stream",
          "text": [
            "Alice\n"
          ]
        }
      ],
      "source": [
        "# Tuples: fixed and cannot be changed after creation (Ordered but immutable)\n",
        "\n",
        "passport = ('Alice', 'Au123456', 'Sydney')\n",
        "print(passport[0])"
      ]
    },
    {
      "cell_type": "code",
      "execution_count": null,
      "metadata": {
        "colab": {
          "base_uri": "https://localhost:8080/"
        },
        "id": "TLFnfoohFTBQ",
        "outputId": "675f8b5b-6cca-4b5c-fcf2-cc464a77858f"
      },
      "outputs": [
        {
          "name": "stdout",
          "output_type": "stream",
          "text": [
            "('Alex', 'A00123456', 'Data Science')\n"
          ]
        }
      ],
      "source": [
        "# Creating a tuple\n",
        "\n",
        "student = ('Alex', 'A00123456', 'Data Science')\n",
        "print(student)\n",
        "\n"
      ]
    },
    {
      "cell_type": "code",
      "execution_count": null,
      "metadata": {
        "colab": {
          "base_uri": "https://localhost:8080/",
          "height": 219
        },
        "id": "u6-7SYlgF9kK",
        "outputId": "3468ec09-867a-417b-b0c4-f115d46c67d3"
      },
      "outputs": [
        {
          "ename": "NameError",
          "evalue": "name 'Bob' is not defined",
          "output_type": "error",
          "traceback": [
            "\u001b[0;31m---------------------------------------------------------------------------\u001b[0m",
            "\u001b[0;31mNameError\u001b[0m                                 Traceback (most recent call last)",
            "\u001b[0;32m/tmp/ipython-input-2892830126.py\u001b[0m in \u001b[0;36m<cell line: 0>\u001b[0;34m()\u001b[0m\n\u001b[1;32m      2\u001b[0m \u001b[0;34m\u001b[0m\u001b[0m\n\u001b[1;32m      3\u001b[0m \u001b[0mstudent\u001b[0m \u001b[0;34m=\u001b[0m \u001b[0;34m(\u001b[0m\u001b[0;34m'Alex'\u001b[0m\u001b[0;34m,\u001b[0m \u001b[0;34m'A00123456'\u001b[0m\u001b[0;34m,\u001b[0m \u001b[0;34m'Data Science'\u001b[0m\u001b[0;34m)\u001b[0m\u001b[0;34m\u001b[0m\u001b[0;34m\u001b[0m\u001b[0m\n\u001b[0;32m----> 4\u001b[0;31m \u001b[0mstudent\u001b[0m\u001b[0;34m[\u001b[0m\u001b[0;36m0\u001b[0m\u001b[0;34m]\u001b[0m \u001b[0;34m=\u001b[0m \u001b[0mBob\u001b[0m\u001b[0;34m\u001b[0m\u001b[0;34m\u001b[0m\u001b[0m\n\u001b[0m\u001b[1;32m      5\u001b[0m \u001b[0;34m\u001b[0m\u001b[0m\n\u001b[1;32m      6\u001b[0m \u001b[0mprint\u001b[0m\u001b[0;34m(\u001b[0m\u001b[0mstudent\u001b[0m\u001b[0;34m)\u001b[0m\u001b[0;34m\u001b[0m\u001b[0;34m\u001b[0m\u001b[0m\n",
            "\u001b[0;31mNameError\u001b[0m: name 'Bob' is not defined"
          ]
        }
      ],
      "source": [
        "# Modify 1 value\n",
        "\n",
        "student = ('Alex', 'A00123456', 'Data Science')\n",
        "student[0] = Bob\n",
        "\n",
        "print(student)\n"
      ]
    },
    {
      "cell_type": "code",
      "execution_count": null,
      "metadata": {
        "colab": {
          "base_uri": "https://localhost:8080/"
        },
        "id": "V93BlK7vGJzD",
        "outputId": "ffe3fe85-3b37-412d-c740-a52f59c03c65"
      },
      "outputs": [
        {
          "name": "stdout",
          "output_type": "stream",
          "text": [
            "{'Town Hall', 'Bondi', 'Newtown'}\n"
          ]
        }
      ],
      "source": [
        "# Sets remove duplicate\n",
        "\n",
        "visited = {'Bondi', 'Newtown', 'Town Hall','Bondi'}\n",
        "print(visited)"
      ]
    },
    {
      "cell_type": "code",
      "execution_count": null,
      "metadata": {
        "colab": {
          "base_uri": "https://localhost:8080/"
        },
        "id": "wBcPDVITHXwd",
        "outputId": "75417c4e-0b52-40bb-9b6a-7776eb095a99"
      },
      "outputs": [
        {
          "name": "stdout",
          "output_type": "stream",
          "text": [
            "{'Gaming', 'Surfing', 'Reading'}\n"
          ]
        }
      ],
      "source": [
        "# Adding to a Set\n",
        "\n",
        "hobbies = {'Surfing', 'Reading', 'Gaming'}\n",
        "hobbies.add('Painting')\n",
        "print(hobbies)"
      ]
    },
    {
      "cell_type": "code",
      "execution_count": null,
      "metadata": {
        "colab": {
          "base_uri": "https://localhost:8080/"
        },
        "id": "pgpLxaKYHqjU",
        "outputId": "7acc0afb-dc35-4918-b286-8f020f509437"
      },
      "outputs": [
        {
          "name": "stdout",
          "output_type": "stream",
          "text": [
            "{'c', 'd'}\n"
          ]
        }
      ],
      "source": [
        "# Finding Common Items in Sets\n",
        "s1 = {'a', 'd', 'c'}\n",
        "s2 = {'c', 'd', 'e'}\n",
        "print(s1.intersection(s2))"
      ]
    },
    {
      "cell_type": "code",
      "execution_count": null,
      "metadata": {
        "colab": {
          "base_uri": "https://localhost:8080/"
        },
        "id": "xBxDMgHoItnM",
        "outputId": "f76b572e-6ac9-46c3-d626-188467c55051"
      },
      "outputs": [
        {
          "name": "stdout",
          "output_type": "stream",
          "text": [
            "Alex\n"
          ]
        }
      ],
      "source": [
        "# Accessing Dictionary Values\n",
        "\n",
        "student = {'name': 'Alex','course': 'Data Science'}\n",
        "print(student['name'])\n"
      ]
    },
    {
      "cell_type": "code",
      "execution_count": null,
      "metadata": {
        "colab": {
          "base_uri": "https://localhost:8080/"
        },
        "id": "YFrHpd8WJOZm",
        "outputId": "34753c8c-efa2-4001-b9a4-d31c3fb02a82"
      },
      "outputs": [
        {
          "name": "stdout",
          "output_type": "stream",
          "text": [
            "{'name': 'Ella', 'id': 'A00123456', 'gpa': 3.8}\n"
          ]
        }
      ],
      "source": [
        "# Creating a Dictionary\n",
        "\n",
        "profile = {'name' : 'Ella', 'id': 'A00123456', 'gpa': 3.8 }\n",
        "print(profile)"
      ]
    },
    {
      "cell_type": "code",
      "execution_count": null,
      "metadata": {
        "colab": {
          "base_uri": "https://localhost:8080/"
        },
        "id": "ow8RAlWsJhVu",
        "outputId": "bbd0d8a8-bc10-43a9-ec6d-24aedd3580d5"
      },
      "outputs": [
        {
          "name": "stdout",
          "output_type": "stream",
          "text": [
            "{'name': 'Ella', 'id': 'A00123456', 'gpa': 4.0, 'Status': 'Pass'}\n"
          ]
        }
      ],
      "source": [
        "# Updating a Dictionary\n",
        "\n",
        "profile = {'name' : 'Ella', 'id': 'A00123456', 'gpa': 3.8 }\n",
        "profile['gpa'] = 4.0\n",
        "profile['Status'] = 'Pass'\n",
        "\n",
        "print(profile)"
      ]
    },
    {
      "cell_type": "code",
      "execution_count": null,
      "metadata": {
        "colab": {
          "base_uri": "https://localhost:8080/"
        },
        "id": "2UCTsXQFKIBV",
        "outputId": "d03c6e36-ff24-43f2-d18d-b0bd976f7a90"
      },
      "outputs": [
        {
          "name": "stdout",
          "output_type": "stream",
          "text": [
            "[{'name': 'Bondi cafe', 'open': True}, {'name': 'Rhodes cafe', 'open': True}]\n"
          ]
        }
      ],
      "source": [
        "# Filtering Dictionaries in a list\n",
        "\n",
        "all_cafes = [\n",
        "    {'name': 'Bondi cafe','open' : True },\n",
        "    {'name': 'Town Hall cafe','open' : False },\n",
        "    {'name': 'Rhodes cafe', 'open' : True }\n",
        "]\n",
        "\n",
        "cafes = [cafe for cafe in all_cafes if cafe.get('open')] # if we add not before cafe.get --> it will print the false statement (closed cafes)\n",
        "print(cafes)"
      ]
    },
    {
      "cell_type": "code",
      "execution_count": null,
      "metadata": {
        "colab": {
          "base_uri": "https://localhost:8080/"
        },
        "id": "LI1PqzPSNR15",
        "outputId": "91c4fdad-49cd-4c39-c19e-3ab10f7ca3e9"
      },
      "outputs": [
        {
          "name": "stdout",
          "output_type": "stream",
          "text": [
            "[0, 1, 4, 9, 16]\n"
          ]
        }
      ],
      "source": [
        "# Create a list of squares using list comprehension\n",
        "\n",
        "squares = [x * x for x in range(5)]\n",
        "print(squares)"
      ]
    },
    {
      "cell_type": "code",
      "execution_count": null,
      "metadata": {
        "colab": {
          "base_uri": "https://localhost:8080/"
        },
        "id": "JB9vqWMzOqjO",
        "outputId": "e2e86152-903a-4083-b1f7-beb7af74bff7"
      },
      "outputs": [
        {
          "name": "stdout",
          "output_type": "stream",
          "text": [
            "[0, 1, 8, 27, 64, 125]\n"
          ]
        }
      ],
      "source": [
        "cubes = [x**3 for x in range(6)]\n",
        "print(cubes)"
      ]
    },
    {
      "cell_type": "code",
      "execution_count": null,
      "metadata": {
        "colab": {
          "base_uri": "https://localhost:8080/"
        },
        "id": "ew176UedO1ef",
        "outputId": "5e493ca9-7764-4be7-f538-115b37b936bb"
      },
      "outputs": [
        {
          "name": "stdout",
          "output_type": "stream",
          "text": [
            "{'Sydney': 25, 'Melbourne': 25}\n"
          ]
        }
      ],
      "source": [
        "# Dictionary Comprehension\n",
        "\n",
        "temps = {city: 25 for city in ['Sydney', 'Melbourne']}\n",
        "print(temps)"
      ]
    },
    {
      "cell_type": "code",
      "execution_count": null,
      "metadata": {
        "colab": {
          "base_uri": "https://localhost:8080/"
        },
        "id": "xEf_GyMsPYTO",
        "outputId": "e6e35363-f586-4388-c820-649b8d879fda"
      },
      "outputs": [
        {
          "name": "stdout",
          "output_type": "stream",
          "text": [
            "{2: 4, 3: 9, 4: 16, 5: 25}\n"
          ]
        }
      ],
      "source": [
        "squares = {x: x**2 for x in range(2,6)}\n",
        "print(squares)"
      ]
    },
    {
      "cell_type": "code",
      "execution_count": null,
      "metadata": {
        "colab": {
          "base_uri": "https://localhost:8080/"
        },
        "id": "Dnx8Ihu_P2Ug",
        "outputId": "0f09919f-c60b-4ffe-980f-8244bd885c83"
      },
      "outputs": [
        {
          "name": "stdout",
          "output_type": "stream",
          "text": [
            "{1, 2, 3, 4}\n"
          ]
        }
      ],
      "source": [
        "nums = {x for x in [1,2,2,3,3,4]}\n",
        "print(nums)"
      ]
    },
    {
      "cell_type": "code",
      "execution_count": null,
      "metadata": {
        "colab": {
          "base_uri": "https://localhost:8080/"
        },
        "id": "UoShsbGdQqrj",
        "outputId": "abf20060-0be8-4749-aa00-b0ed9d0e7fdc"
      },
      "outputs": [
        {
          "name": "stdout",
          "output_type": "stream",
          "text": [
            "{16, 9, 4, 25}\n"
          ]
        }
      ],
      "source": [
        "squares = {x**2 for x in range(2,6)}\n",
        "print(squares)"
      ]
    },
    {
      "cell_type": "code",
      "execution_count": null,
      "metadata": {
        "colab": {
          "base_uri": "https://localhost:8080/"
        },
        "id": "RJyyd2TBRKYV",
        "outputId": "b6bc79d3-dac4-4f11-8ded-3ebc48cd40c1"
      },
      "outputs": [
        {
          "name": "stdout",
          "output_type": "stream",
          "text": [
            "{2, 4, 6, 8, 10}\n"
          ]
        }
      ],
      "source": [
        "evens = {x for x in range(1,11) if x % 2 ==0}\n",
        "print(evens)"
      ]
    },
    {
      "cell_type": "code",
      "execution_count": null,
      "metadata": {
        "colab": {
          "base_uri": "https://localhost:8080/"
        },
        "id": "0nmdzQUsRxeM",
        "outputId": "011a5b80-79af-409e-d879-635e4875e02e"
      },
      "outputs": [
        {
          "name": "stdout",
          "output_type": "stream",
          "text": [
            "All Grades : {'Math': 80, 'Python': 65, 'AI': 90}\n",
            "Passed : {'Math': 80, 'AI': 90}\n"
          ]
        }
      ],
      "source": [
        "grades = {'Math' : 80, 'Python' : 65, 'AI' : 90}\n",
        "passed = {k: v for k,v in grades.items() if v >= 70}\n",
        "print('All Grades :', grades)\n",
        "print('Passed :', passed)"
      ]
    }
  ],
  "metadata": {
    "colab": {
      "provenance": []
    },
    "kernelspec": {
      "display_name": "Python 3",
      "name": "python3"
    },
    "language_info": {
      "name": "python"
    }
  },
  "nbformat": 4,
  "nbformat_minor": 0
}
