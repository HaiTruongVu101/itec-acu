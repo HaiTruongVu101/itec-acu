{
  "nbformat": 4,
  "nbformat_minor": 0,
  "metadata": {
    "colab": {
      "provenance": []
    },
    "kernelspec": {
      "name": "python3",
      "display_name": "Python 3"
    },
    "language_info": {
      "name": "python"
    }
  },
  "cells": [
    {
      "cell_type": "code",
      "execution_count": 1,
      "metadata": {
        "colab": {
          "base_uri": "https://localhost:8080/"
        },
        "id": "V51pfq3gCcbA",
        "outputId": "b6c57329-732e-444f-aaa4-ffddc7e32755"
      },
      "outputs": [
        {
          "output_type": "stream",
          "name": "stdout",
          "text": [
            "Hello Hai Truong Vu!\n"
          ]
        }
      ],
      "source": [
        "#print string\n",
        "name = \"Hai Truong Vu\"\n",
        "print(f\"Hello {name}!\")"
      ]
    },
    {
      "cell_type": "code",
      "source": [
        "#if-statement\n",
        "if True:\n",
        "  print(\"Aligned properly\")\n",
        "#Misaligned -> IndentationError"
      ],
      "metadata": {
        "colab": {
          "base_uri": "https://localhost:8080/"
        },
        "id": "P7am-CiaD8TI",
        "outputId": "bbd598ae-4be6-41a0-9720-272c902fd41b"
      },
      "execution_count": 8,
      "outputs": [
        {
          "output_type": "stream",
          "name": "stdout",
          "text": [
            "Aligned properly\n"
          ]
        }
      ]
    },
    {
      "cell_type": "code",
      "source": [
        "#Easy math\n",
        "age = 25\n",
        "age_next_year = age + 1\n",
        "print(age_next_year)"
      ],
      "metadata": {
        "colab": {
          "base_uri": "https://localhost:8080/"
        },
        "id": "ZKnZf_W3FKcZ",
        "outputId": "eed963a1-af18-4e90-eafa-b0c5b00342f8"
      },
      "execution_count": 9,
      "outputs": [
        {
          "output_type": "stream",
          "name": "stdout",
          "text": [
            "26\n"
          ]
        }
      ]
    },
    {
      "cell_type": "code",
      "source": [
        "# example of import cos and using pi in python\n",
        "\n",
        "from math import cos\n",
        "\n",
        "pi = 3.14\n",
        "print(cos(pi))"
      ],
      "metadata": {
        "colab": {
          "base_uri": "https://localhost:8080/"
        },
        "id": "w-FfG5zuGzh9",
        "outputId": "66d0e89a-e368-4164-fe22-563d618bd4c1"
      },
      "execution_count": 13,
      "outputs": [
        {
          "output_type": "stream",
          "name": "stdout",
          "text": [
            "-0.9999987317275395\n"
          ]
        }
      ]
    },
    {
      "cell_type": "code",
      "source": [
        "#Boolean\n",
        "is_raining = True\n",
        "print(is_raining)"
      ],
      "metadata": {
        "colab": {
          "base_uri": "https://localhost:8080/"
        },
        "id": "iopQLFQvImQ_",
        "outputId": "59356da8-36d6-4fc8-b248-2293a7a74535"
      },
      "execution_count": 16,
      "outputs": [
        {
          "output_type": "stream",
          "name": "stdout",
          "text": [
            "True\n"
          ]
        }
      ]
    },
    {
      "cell_type": "code",
      "source": [
        "#String #2\n",
        "unit = \"Itec102\"\n",
        "print(unit)"
      ],
      "metadata": {
        "colab": {
          "base_uri": "https://localhost:8080/"
        },
        "id": "WAUH_tTnI_p3",
        "outputId": "4600c1bc-2ca0-4bde-b9ae-c57978ccf77f"
      },
      "execution_count": 17,
      "outputs": [
        {
          "output_type": "stream",
          "name": "stdout",
          "text": [
            "Itec102\n"
          ]
        }
      ]
    },
    {
      "cell_type": "code",
      "source": [
        "#convert different type of data into string\n",
        "#convert string to int\n",
        "num_1 = int(\"5\")\n",
        "\n",
        "#convert int to float\n",
        "num_2 = float(3)\n",
        "\n",
        "#convert number to string\n",
        "num_3 = str(42)\n",
        "\n",
        "print (f\"{num_1}, {num_2}, {num_3}\")"
      ],
      "metadata": {
        "colab": {
          "base_uri": "https://localhost:8080/"
        },
        "id": "UObTQwg2JVZv",
        "outputId": "932724cb-d5af-4e43-c8dd-0c03ea0178da"
      },
      "execution_count": 18,
      "outputs": [
        {
          "output_type": "stream",
          "name": "stdout",
          "text": [
            "5, 3.0, 42\n"
          ]
        }
      ]
    },
    {
      "cell_type": "code",
      "source": [
        "#Int + Float -> Float\n",
        "result = 3 + 2.0\n",
        "print(result, type(result))\n",
        "\n",
        "#Boolean + Int -> Int\n",
        "total = True +3\n",
        "print(total, type(total))"
      ],
      "metadata": {
        "colab": {
          "base_uri": "https://localhost:8080/"
        },
        "id": "aOBd9TXyK9PC",
        "outputId": "05b99135-2460-434f-8f76-5edbba8062d1"
      },
      "execution_count": 19,
      "outputs": [
        {
          "output_type": "stream",
          "name": "stdout",
          "text": [
            "5.0 <class 'float'>\n",
            "4 <class 'int'>\n"
          ]
        }
      ]
    },
    {
      "cell_type": "code",
      "source": [
        "#arithmetics\n",
        "a = 10\n",
        "b = 3\n",
        "print(a + b)\n",
        "print(a - b)\n",
        "print(a * b)\n",
        "print(a / b)\n",
        "print(a // b)\n",
        "print(a % b) #modulus\n",
        "print(a ** b)"
      ],
      "metadata": {
        "colab": {
          "base_uri": "https://localhost:8080/"
        },
        "id": "MQXWjnWELSIl",
        "outputId": "d3c82996-c864-47e2-ff3f-1328cdb784eb"
      },
      "execution_count": 20,
      "outputs": [
        {
          "output_type": "stream",
          "name": "stdout",
          "text": [
            "13\n",
            "7\n",
            "30\n",
            "3.3333333333333335\n",
            "3\n",
            "1\n",
            "1000\n"
          ]
        }
      ]
    },
    {
      "cell_type": "code",
      "source": [
        "print(7 // 2)\n",
        "print(7 % 2)"
      ],
      "metadata": {
        "colab": {
          "base_uri": "https://localhost:8080/"
        },
        "id": "LkBiPAO1L-sJ",
        "outputId": "05964fc8-749d-4dfc-9a05-70772bea7d6a"
      },
      "execution_count": 23,
      "outputs": [
        {
          "output_type": "stream",
          "name": "stdout",
          "text": [
            "3\n",
            "1\n"
          ]
        }
      ]
    },
    {
      "cell_type": "code",
      "source": [
        "#boolean practice\n",
        "team_a = 260\n",
        "team_b = 245\n",
        "\n",
        "print(team_a == team_b)\n",
        "print(team_a != team_b)\n",
        "print(team_a > team_b)\n",
        "print(team_a < team_b)\n",
        "print(team_a >= team_b)\n",
        "print(team_a <= team_b)"
      ],
      "metadata": {
        "colab": {
          "base_uri": "https://localhost:8080/"
        },
        "id": "Bfs9yxukMdil",
        "outputId": "2792017d-c1e1-4fea-fce3-3b91d8f89e1a"
      },
      "execution_count": 24,
      "outputs": [
        {
          "output_type": "stream",
          "name": "stdout",
          "text": [
            "False\n",
            "True\n",
            "True\n",
            "False\n",
            "True\n",
            "False\n"
          ]
        }
      ]
    },
    {
      "cell_type": "code",
      "source": [
        "#Logical operators practice\n",
        "sunny = True\n",
        "weekend = False\n",
        "if sunny and weekend:\n",
        "  print(\"Go to the beach\")\n",
        "else:\n",
        "  print(\"Go to the uni pls\")"
      ],
      "metadata": {
        "colab": {
          "base_uri": "https://localhost:8080/"
        },
        "id": "1i4VSB9xNazB",
        "outputId": "4d9ad6e9-e0f0-4dc2-b5de-6377dfbe6732"
      },
      "execution_count": 28,
      "outputs": [
        {
          "output_type": "stream",
          "name": "stdout",
          "text": [
            "Go to the uni pls\n"
          ]
        }
      ]
    },
    {
      "cell_type": "code",
      "source": [
        "#conditional Statement\n",
        "#if-else #1\n",
        "temp = 35\n",
        "if temp > 30:\n",
        "  print(\"Turn on the AC pls T.T\")\n",
        "else:\n",
        "  print(\"It's kinda cool tbh\")"
      ],
      "metadata": {
        "colab": {
          "base_uri": "https://localhost:8080/"
        },
        "id": "XmoXfT94N2lZ",
        "outputId": "2417fc88-5679-44e7-a8c0-efe4ac8e8bd5"
      },
      "execution_count": 30,
      "outputs": [
        {
          "output_type": "stream",
          "name": "stdout",
          "text": [
            "Turn on the AC pls T.T\n"
          ]
        }
      ]
    },
    {
      "cell_type": "code",
      "source": [
        "#if-else #2\n",
        "is_raining = True #Can change to False to test the other condition\n",
        "if is_raining:\n",
        "  print(\"Bring an umbrella\")\n",
        "else:\n",
        "  print(\"Leave umbrella at home\")"
      ],
      "metadata": {
        "colab": {
          "base_uri": "https://localhost:8080/"
        },
        "id": "kxwVncFTPHBl",
        "outputId": "fa9019a3-2c2e-4465-9e73-73498488467f"
      },
      "execution_count": 36,
      "outputs": [
        {
          "output_type": "stream",
          "name": "stdout",
          "text": [
            "Leave umbrella at home 😊\n"
          ]
        }
      ]
    },
    {
      "cell_type": "code",
      "source": [
        "#if-else #3 (elif)\n",
        "\n",
        "train_running = True\n",
        "bus_running = False\n",
        "\n",
        "if train_running:\n",
        "  print(\"Take the train\")\n",
        "elif bus_running:\n",
        "  print(\"Take the bus\")\n",
        "else:\n",
        "  print(\"Walk\")"
      ],
      "metadata": {
        "colab": {
          "base_uri": "https://localhost:8080/"
        },
        "id": "TKQoiv8UPXvL",
        "outputId": "103d9d7f-a1a3-4cff-b4c5-098022d9dd53"
      },
      "execution_count": 37,
      "outputs": [
        {
          "output_type": "stream",
          "name": "stdout",
          "text": [
            "Take the train\n"
          ]
        }
      ]
    },
    {
      "cell_type": "code",
      "source": [
        "#For loop\n",
        "students = [\"Ava\", \"Noah\", \"James\"]\n",
        "\n",
        "for student in students:\n",
        "  print(f\"Hello {student}\")"
      ],
      "metadata": {
        "colab": {
          "base_uri": "https://localhost:8080/"
        },
        "id": "QIrWUDycQRl7",
        "outputId": "e94af87e-2af6-456e-8c47-e4d9933fd044"
      },
      "execution_count": 38,
      "outputs": [
        {
          "output_type": "stream",
          "name": "stdout",
          "text": [
            "Hello Ava\n",
            "Hello Noah\n",
            "Hello James\n"
          ]
        }
      ]
    },
    {
      "cell_type": "code",
      "source": [
        "#While loop\n",
        "\n",
        "cups = 0\n",
        "\n",
        "while cups < 3:\n",
        "  cups += 1\n",
        "  print(f\"Filled cup {cups}\")"
      ],
      "metadata": {
        "colab": {
          "base_uri": "https://localhost:8080/"
        },
        "id": "-_j0eb7hQoMn",
        "outputId": "58dfb8ec-58b6-4985-ceaf-9b8c92bb353c"
      },
      "execution_count": 40,
      "outputs": [
        {
          "output_type": "stream",
          "name": "stdout",
          "text": [
            "Filled cup 1\n",
            "Filled cup 2\n",
            "Filled cup 3\n"
          ]
        }
      ]
    },
    {
      "cell_type": "code",
      "source": [
        "#range() Function\n",
        "\n",
        "for i in range(5):\n",
        "  print(i)\n",
        "\n",
        "for i in range(2,6):\n",
        "  print(i)\n",
        "\n",
        "for i in range(0, 10, 2 ):\n",
        "  print(i)"
      ],
      "metadata": {
        "colab": {
          "base_uri": "https://localhost:8080/"
        },
        "id": "LL_yML99Rj3Y",
        "outputId": "20ad5908-b10e-4831-e21a-9706a948de4d"
      },
      "execution_count": 46,
      "outputs": [
        {
          "output_type": "stream",
          "name": "stdout",
          "text": [
            "0\n",
            "1\n",
            "2\n",
            "3\n",
            "4\n",
            "2\n",
            "3\n",
            "4\n",
            "5\n",
            "0\n",
            "2\n",
            "4\n",
            "6\n",
            "8\n"
          ]
        }
      ]
    },
    {
      "cell_type": "code",
      "source": [
        "#break n continue #1\n",
        "for num in range(10):\n",
        "    if num == 5:\n",
        "        break\n",
        "    print(num)"
      ],
      "metadata": {
        "colab": {
          "base_uri": "https://localhost:8080/"
        },
        "id": "hrDlwB57S4UL",
        "outputId": "00d8d5f1-0d5b-4908-f265-3fee8720c15f"
      },
      "execution_count": 50,
      "outputs": [
        {
          "output_type": "stream",
          "name": "stdout",
          "text": [
            "0\n",
            "1\n",
            "2\n",
            "3\n",
            "4\n"
          ]
        }
      ]
    },
    {
      "cell_type": "code",
      "source": [
        "#String slicing\n",
        "\n",
        "name = \"Sydney\"\n",
        "#Slice from index 0 -> 3\n",
        "print(name[0 : 3])\n",
        "\n",
        "#Slice from start -> index 4\n",
        "print(name[:4])\n",
        "\n",
        "#Slice from index 3 to the end\n",
        "print(name[3:])"
      ],
      "metadata": {
        "colab": {
          "base_uri": "https://localhost:8080/"
        },
        "id": "3u1dxyg9TqEq",
        "outputId": "97cc4018-64fa-4ca5-b518-db76b680a676"
      },
      "execution_count": 51,
      "outputs": [
        {
          "output_type": "stream",
          "name": "stdout",
          "text": [
            "Syd\n",
            "Sydn\n",
            "ney\n"
          ]
        }
      ]
    },
    {
      "cell_type": "code",
      "source": [
        "print(\"Hello \\nWorld\")"
      ],
      "metadata": {
        "colab": {
          "base_uri": "https://localhost:8080/"
        },
        "id": "kvmbIFCXVSHw",
        "outputId": "3cf8355f-f101-4637-ba83-bd18a2ee5646"
      },
      "execution_count": 54,
      "outputs": [
        {
          "output_type": "stream",
          "name": "stdout",
          "text": [
            "Hello \n",
            "World\n"
          ]
        }
      ]
    }
  ]
}