{
  "cells": [
    {
      "cell_type": "code",
      "execution_count": 10,
      "metadata": {
        "colab": {
          "base_uri": "https://localhost:8080/"
        },
        "id": "iQLptXHhy-lz",
        "outputId": "0e79e7a1-7478-4fcb-c5de-1f47200360a5"
      },
      "outputs": [
        {
          "name": "stdout",
          "output_type": "stream",
          "text": [
            "Whole number quotient is: 6\n",
            "The numerator of the mixed fraction is: 1\n",
            "The denominator of the mixed fraction is: 3\n"
          ]
        }
      ],
      "source": [
        "#TASK 1: Write a python program to display 19/3 as whole number quotient, numerator and denominator in a mixed fraction. The fixed fraction form of 19/3 is 6 1/3\n",
        "\n",
        "whole_num = 19 // 3\n",
        "numerator = 19 % 3\n",
        "denominator = 3\n",
        "\n",
        "print(f\"Whole number quotient is:\", whole_num)\n",
        "print(f\"The numerator of the mixed fraction is:\", numerator)\n",
        "print(f\"The denominator of the mixed fraction is:\", denominator)\n",
        "\n"
      ]
    },
    {
      "cell_type": "code",
      "execution_count": 12,
      "metadata": {
        "colab": {
          "base_uri": "https://localhost:8080/"
        },
        "id": "oKmGs94E1Foi",
        "outputId": "ce98a4ef-97ed-4768-9e6e-ba4107d10291"
      },
      "outputs": [
        {
          "name": "stdout",
          "output_type": "stream",
          "text": [
            "The area of the circle with 2.0 is: 12.566370614359172\n"
          ]
        }
      ],
      "source": [
        "#TASK 2: Write a program that calculates the area of a circle with a radius of 2.0\n",
        "\n",
        "import math\n",
        "radius = 2.0\n",
        "area = math.pi * radius ** 2\n",
        "print(f\"The area of the circle with {radius} is:\", area)"
      ]
    },
    {
      "cell_type": "code",
      "execution_count": 16,
      "metadata": {
        "colab": {
          "base_uri": "https://localhost:8080/"
        },
        "id": "z3KcTmrm1qqH",
        "outputId": "371243f3-c284-4c84-b0a8-15ae0a9ed208"
      },
      "outputs": [
        {
          "name": "stdout",
          "output_type": "stream",
          "text": [
            "3125\n"
          ]
        }
      ],
      "source": [
        "#TASK 3: Write a program that displays the number in reverse order\n",
        "\n",
        "num = 5213\n",
        "rev_num = int(str(num)[::-1])\n",
        "print(rev_num)\n",
        "\n",
        "\n"
      ]
    },
    {
      "cell_type": "code",
      "execution_count": 21,
      "metadata": {
        "colab": {
          "base_uri": "https://localhost:8080/"
        },
        "id": "8NLf68z43Zrs",
        "outputId": "9f80fe67-dc00-4ef9-d722-1e4cf366cf22"
      },
      "outputs": [
        {
          "name": "stdout",
          "output_type": "stream",
          "text": [
            "{'name': 'Kelly', 'age': 25, 'salary': 8000, 'location': 'New york'}\n"
          ]
        }
      ],
      "source": [
        "#TASK 4: Rename key city to location in the following dictionary\n",
        "\n",
        "sampleDict = {\n",
        "\"name\": \"Kelly\",\n",
        "\"age\":25,\n",
        "\"salary\": 8000,\n",
        "\"city\": \"New york\"\n",
        "}\n",
        "\n",
        "sampleDict[\"location\"] = sampleDict.pop(\"city\")\n",
        "\n",
        "print(sampleDict)"
      ]
    },
    {
      "cell_type": "code",
      "execution_count": 23,
      "metadata": {
        "colab": {
          "base_uri": "https://localhost:8080/"
        },
        "id": "nTtVZ6wE4TyF",
        "outputId": "659dfc13-21da-4eaf-89ad-154fec246a91"
      },
      "outputs": [
        {
          "name": "stdout",
          "output_type": "stream",
          "text": [
            "The common elements are:  {1, 2, 10}\n"
          ]
        }
      ],
      "source": [
        "#TASK 5: displays the common elements that appear in the two lists below:\n",
        "#list1: 5 5 2 10 1 6\n",
        "#list2: 9 2 3 10 3 34 35 67 3 1\n",
        "\n",
        "\n",
        "list1 =[ 5, 5, 2, 10, 1, 6]\n",
        "list2 = [9, 2, 3, 10, 3, 34, 35, 67,3 ,1]\n",
        "\n",
        "common = set(list1).intersection(list2)\n",
        "print(f\"The common elements are: \", common)"
      ]
    },
    {
      "cell_type": "code",
      "execution_count": 25,
      "metadata": {
        "colab": {
          "base_uri": "https://localhost:8080/"
        },
        "id": "h7IRxorW5N7r",
        "outputId": "5d6c2622-92f8-4938-e661-b68c62cdd803"
      },
      "outputs": [
        {
          "name": "stdout",
          "output_type": "stream",
          "text": [
            "[25, 25, 4, 100, 1, 36]\n"
          ]
        }
      ],
      "source": [
        "#TASK 6: list comprehension - squaring each element of a list\n",
        "\n",
        "list_a = [5,5,2,10,1,6]\n",
        "list_b = [x**2 for x in list_a]\n",
        "\n",
        "print(list_b)"
      ]
    }
  ],
  "metadata": {
    "colab": {
      "provenance": []
    },
    "kernelspec": {
      "display_name": "Python 3",
      "name": "python3"
    },
    "language_info": {
      "name": "python"
    }
  },
  "nbformat": 4,
  "nbformat_minor": 0
}
