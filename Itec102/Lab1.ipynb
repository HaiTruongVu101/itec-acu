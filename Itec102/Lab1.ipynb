{
  "cells": [
    {
      "cell_type": "markdown",
      "metadata": {},
      "source": [
        "# Lab 1 Practices\n",
        "## Lab 1 Practices\n",
        "### Lab 1 Practices"
      ]
    },
    {
      "cell_type": "code",
      "execution_count": 1,
      "metadata": {
        "colab": {
          "base_uri": "https://localhost:8080/"
        },
        "id": "MwNo8Dl9vLON",
        "outputId": "b026334e-06cb-4281-a619-5020f6b10b6d"
      },
      "outputs": [
        {
          "name": "stdout",
          "output_type": "stream",
          "text": [
            "Hai Truong Vu, Welcome to ITEC102!\n",
            "Hai Truong Vu, Welcome to ITEC102!\n",
            "Hai Truong Vu, Welcome to ITEC102!\n",
            "Hai Truong Vu, Welcome to ITEC102!\n",
            "Hai Truong Vu, Welcome to ITEC102!\n"
          ]
        }
      ],
      "source": [
        "print(\"Hai Truong Vu, Welcome to ITEC102!\")\n",
        "print(\"Hai Truong Vu, Welcome to ITEC102!\")\n",
        "print(\"Hai Truong Vu, Welcome to ITEC102!\")\n",
        "print(\"Hai Truong Vu, Welcome to ITEC102!\")\n",
        "print(\"Hai Truong Vu, Welcome to ITEC102!\")\n",
        "\n",
        "\n"
      ]
    },
    {
      "cell_type": "code",
      "execution_count": 2,
      "metadata": {
        "colab": {
          "base_uri": "https://localhost:8080/"
        },
        "id": "q1zZT3fIvvh9",
        "outputId": "3de3d1c2-d59a-42d8-daf7-dd9f4522ac0a"
      },
      "outputs": [
        {
          "name": "stdout",
          "output_type": "stream",
          "text": [
            "Hai Truong Vu, Welcome to ITEC102! \n",
            "Hai Truong Vu, Welcome to ITEC102! \n",
            "Hai Truong Vu, Welcome to ITEC102! \n",
            "Hai Truong Vu, Welcome to ITEC102! \n",
            "Hai Truong Vu, Welcome to ITEC102! \n",
            "\n"
          ]
        }
      ],
      "source": [
        "\n",
        "print(\"Hai Truong Vu, Welcome to ITEC102! \\n\" *5 )"
      ]
    },
    {
      "cell_type": "code",
      "execution_count": null,
      "metadata": {
        "id": "WwIr_l8K0ST4"
      },
      "outputs": [],
      "source": []
    }
  ],
  "metadata": {
    "colab": {
      "authorship_tag": "ABX9TyOG1GGjbkg3VMT4zIYjk/SY",
      "provenance": []
    },
    "kernelspec": {
      "display_name": "Python 3",
      "name": "python3"
    },
    "language_info": {
      "codemirror_mode": {
        "name": "ipython",
        "version": 3
      },
      "file_extension": ".py",
      "mimetype": "text/x-python",
      "name": "python",
      "nbconvert_exporter": "python",
      "pygments_lexer": "ipython3",
      "version": "3.13.6"
    }
  },
  "nbformat": 4,
  "nbformat_minor": 0
}
